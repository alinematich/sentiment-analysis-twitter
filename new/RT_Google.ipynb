{
 "cells": [
  {
   "cell_type": "code",
   "execution_count": 83,
   "metadata": {},
   "outputs": [],
   "source": [
    "##Khai báo các thư viện\n",
    "from __future__ import print_function\n",
    "import time\n",
    "import numpy as np\n",
    "np.random.seed(1337)  # for reproducibility\n",
    "\n",
    "from keras.preprocessing import sequence\n",
    "from keras.models import Model\n",
    "from keras.models import Sequential\n",
    "from keras.layers import Dense, Dropout, Embedding, LSTM, Input, merge, BatchNormalization,GRU\n",
    "from keras.datasets import imdb\n",
    "\n",
    "import os\n",
    "from keras.preprocessing.text import Tokenizer\n"
   ]
  },
  {
   "cell_type": "code",
   "execution_count": 84,
   "metadata": {},
   "outputs": [],
   "source": [
    "X_train_pos = []\n",
    "\n",
    "X_train_neg = []\n",
    "\n",
    "# combine sentiment by stanford\n",
    "import pandas as pd\n",
    "import ast\n",
    "\n",
    "df = pd.read_csv('sentiment_tweet.csv', quotechar='\"')\n",
    "del df['Unnamed: 0']\n",
    "del df['Unnamed: 0.1']\n",
    "\n",
    "for index, row in df.iterrows():\n",
    "    sentiment = ast.literal_eval(row['sentiment'])['sentiment']\n",
    "    if sentiment != None:\n",
    "        if sentiment['basic'] == 'Bullish':\n",
    "            X_train_pos.append(row)\n",
    "        elif sentiment['basic'] == 'Bearish':\n",
    "            X_train_neg.append(row)\n"
   ]
  },
  {
   "cell_type": "code",
   "execution_count": 85,
   "metadata": {},
   "outputs": [
    {
     "name": "stdout",
     "output_type": "stream",
     "text": [
      "63777\n",
      "25351\n"
     ]
    }
   ],
   "source": [
    "print(len(X_train_pos))\n",
    "print(len(X_train_neg))"
   ]
  },
  {
   "cell_type": "code",
   "execution_count": 86,
   "metadata": {},
   "outputs": [
    {
     "name": "stdout",
     "output_type": "stream",
     "text": [
      "71301\n",
      "71301\n"
     ]
    }
   ],
   "source": [
    "X_train = []\n",
    "y_train = []\n",
    "\n",
    "X_test = []\n",
    "y_test = []\n",
    "\n",
    "#train\n",
    "#positive\n",
    "X_train.extend(X_train_pos[0:51021])\n",
    "y_train.extend([1 for _ in range(51021)])\n",
    "\n",
    "#negative\n",
    "X_train.extend(X_train_neg[0:20280])\n",
    "y_train.extend([0 for _ in range(20280)])\n",
    "print(len(X_train))\n",
    "print(len(y_train))\n",
    "#test\n",
    "X_test.extend(X_train_pos[51022:63777])\n",
    "y_test.extend([1 for _ in range(12755)])\n",
    "\n",
    "X_test.extend(X_train_pos[20280:25351])\n",
    "y_test.extend([0 for _ in range(5071)])\n",
    "\n",
    "Xtrain = pd.DataFrame(X_train)\n",
    "Xtrain.to_csv('./posnegtrain.csv')\n"
   ]
  },
  {
   "cell_type": "code",
   "execution_count": 55,
   "metadata": {},
   "outputs": [],
   "source": [
    "#print(X_train[0:5])\n",
    "#print(Xtrain['text'])\n",
    "## Gán nhãn cho dữ liệu train\n",
    "\n",
    "#path = 'C:/KHOALUAN/DATA/individual_stocs_reuter/google/train/pos/'\n",
    "#X_train.extend([open(path + f).read() for f in os.listdir(path) if f.endswith('.txt')])\n",
    "\n",
    "#y_train.extend([1 for _ in range(1384)])\n",
    "\n",
    "#path = 'C:/KHOALUAN/DATA/individual_stocs_reuter/google/train/neg/'\n",
    "#X_train.extend([open(path + f).read() for f in os.listdir(path) if f.endswith('.txt')])\n",
    "\n",
    "#y_train.extend([0 for _ in range(868)])\n"
   ]
  },
  {
   "cell_type": "code",
   "execution_count": 56,
   "metadata": {},
   "outputs": [],
   "source": [
    "##Gán nhãn cho dữ liệu test\n",
    "#X_test = []\n",
    "#y_test = []\n",
    "\n",
    "#path = 'C:/KHOALUAN/DATA/individual_stocs_reuter/google/test/pos/'\n",
    "#X_test.extend([open(path + f).read() for f in os.listdir(path) if f.endswith('.txt')])\n",
    "#y_test.extend([1 for _ in range(691)])\n",
    "\n",
    "#path = 'C:/KHOALUAN/DATA/individual_stocs_reuter/google/test/neg/'\n",
    "#X_test.extend([open(path + f).read() for f in os.listdir(path) if f.endswith('.txt')])\n",
    "#y_test.extend([0 for _ in range(433)])\n"
   ]
  },
  {
   "cell_type": "code",
   "execution_count": 87,
   "metadata": {},
   "outputs": [],
   "source": [
    "## Khai báo tham số đặc trưng và chiều dài câu\n",
    "max_features =2000\n",
    "max_len = 800  # cut texts after this number of words (among top max_features most common words)"
   ]
  },
  {
   "cell_type": "code",
   "execution_count": 88,
   "metadata": {},
   "outputs": [
    {
     "name": "stdout",
     "output_type": "stream",
     "text": [
      "nan 61513\n"
     ]
    }
   ],
   "source": [
    "## Xử lý remove stop words cho dữ liệu train\n",
    "from nltk.corpus import stopwords\n",
    "from nltk.tokenize import word_tokenize\n",
    "\n",
    "X_train_rm= []\n",
    "stop_words=set(stopwords.words(\"english\"))\n",
    "\n",
    "for index, row in Xtrain.iterrows():\n",
    "    nrow = row['text']\n",
    "    if type(nrow) != str:\n",
    "        print(nrow, index)\n",
    "        continue\n",
    "        #X_train_rm.append(remove_sw)\n",
    "    else:\n",
    "        words=word_tokenize(nrow)\n",
    "        remove_sw= [w for w in words if not w in stop_words]\n",
    "        X_train_rm.append(remove_sw),\n",
    "sentence_train=[]\n",
    "for i in range(len(X_train_rm)):\n",
    "    s = \"\"\n",
    "    for j in range(len(X_train_rm[i])):\n",
    "        s+=X_train_rm[i][j]+\" \"\n",
    "    sentence_train.append(s),\n"
   ]
  },
  {
   "cell_type": "code",
   "execution_count": 90,
   "metadata": {},
   "outputs": [
    {
     "name": "stdout",
     "output_type": "stream",
     "text": [
      "[['aapl', 'ba', 'amzn', 'cat', 'nflx', 'lmt', 'noc', 'hold', 'hold', 'hold', 'stop', 'madness'], ['aapl', 'open'], ['aapl', 'article', 'said', 'could', 'go', 'six', 'dollars', 'cares', 'much', 'already', 'fallen', 'risk', 'reward', 'good'], ['spy', 'bears', 'acting', 'like', 'bulls', 'mrkt', 'flushing', 'bulls', 'thought', 'could', 'go', 'get', 'point', 'aapl', 'amzn', 'baba', 'jd', 'nflx'], ['spy', 'obama', 'economy', 'good', 'fed', 'raise', 'rate', 'political', 'bankers', 'trump', 'aapl', 'amzn', 'googl', 'fb', 'nflx']]\n",
      "71300\n"
     ]
    }
   ],
   "source": [
    "print(X_train_rm[0:5])\n",
    "#print(sentence_train[0:5])\n",
    "print(len(sentence_train))"
   ]
  },
  {
   "cell_type": "code",
   "execution_count": 91,
   "metadata": {},
   "outputs": [],
   "source": [
    "## Xử lý remove stop words cho dữ liệu test\n",
    "X_test_rm= []\n",
    "stop_words=set(stopwords.words(\"english\"))\n",
    "Xtest = pd.DataFrame(X_test)\n",
    "for index, row in Xtest.iterrows():\n",
    "    nrow = row['text']\n",
    "    if type(nrow) != str:\n",
    "        continue\n",
    "    else:\n",
    "        words=word_tokenize(nrow)\n",
    "        remove_sw= [w for w in words if not w in stop_words]\n",
    "        X_test_rm.append(remove_sw),\n",
    "sentence_test=[] \n",
    "for i in range(len(X_test_rm)):\n",
    "    s = \"\"\n",
    "    for j in range(len(X_test_rm[i])):\n",
    "        s+=X_test_rm[i][j]+\" \"\n",
    "    sentence_test.append(s),\n"
   ]
  },
  {
   "cell_type": "code",
   "execution_count": 92,
   "metadata": {},
   "outputs": [
    {
     "name": "stdout",
     "output_type": "stream",
     "text": [
      "Number of words: \n",
      "65911\n"
     ]
    }
   ],
   "source": [
    "print(\"Number of words: \")\n",
    "print(len(np.unique(np.hstack(Xtrain['text']))))\n",
    "X_train_text = Xtrain['text']\n",
    "X_train_text = X_train_text.values.tolist()\n",
    "#print(type(X_train_text))"
   ]
  },
  {
   "cell_type": "code",
   "execution_count": 93,
   "metadata": {},
   "outputs": [
    {
     "name": "stdout",
     "output_type": "stream",
     "text": [
      "Review length: \n"
     ]
    },
    {
     "ename": "TypeError",
     "evalue": "unsupported operand type(s) for /: 'map' and 'int'",
     "output_type": "error",
     "traceback": [
      "\u001b[1;31m---------------------------------------------------------------------------\u001b[0m",
      "\u001b[1;31mTypeError\u001b[0m                                 Traceback (most recent call last)",
      "\u001b[1;32m<ipython-input-93-7a7d0aa3498e>\u001b[0m in \u001b[0;36m<module>\u001b[1;34m\u001b[0m\n\u001b[0;32m      3\u001b[0m \u001b[0mprint\u001b[0m\u001b[1;33m(\u001b[0m\u001b[1;34m\"Review length: \"\u001b[0m\u001b[1;33m)\u001b[0m\u001b[1;33m\u001b[0m\u001b[0m\n\u001b[0;32m      4\u001b[0m \u001b[0mresult\u001b[0m \u001b[1;33m=\u001b[0m \u001b[0mmap\u001b[0m\u001b[1;33m(\u001b[0m\u001b[0mlen\u001b[0m\u001b[1;33m,\u001b[0m \u001b[0mX_train_text\u001b[0m\u001b[1;33m)\u001b[0m\u001b[1;33m\u001b[0m\u001b[0m\n\u001b[1;32m----> 5\u001b[1;33m \u001b[0mprint\u001b[0m\u001b[1;33m(\u001b[0m\u001b[1;34m\"Mean %.2f words (%f)\"\u001b[0m \u001b[1;33m%\u001b[0m \u001b[1;33m(\u001b[0m\u001b[0mnp\u001b[0m\u001b[1;33m.\u001b[0m\u001b[0mmean\u001b[0m\u001b[1;33m(\u001b[0m\u001b[0mresult\u001b[0m\u001b[1;33m)\u001b[0m\u001b[1;33m,\u001b[0m \u001b[0mnp\u001b[0m\u001b[1;33m.\u001b[0m\u001b[0mstd\u001b[0m\u001b[1;33m(\u001b[0m\u001b[0mresult\u001b[0m\u001b[1;33m)\u001b[0m\u001b[1;33m)\u001b[0m\u001b[1;33m)\u001b[0m\u001b[1;33m\u001b[0m\u001b[0m\n\u001b[0m\u001b[0;32m      6\u001b[0m \u001b[1;31m# plot review length\u001b[0m\u001b[1;33m\u001b[0m\u001b[1;33m\u001b[0m\u001b[0m\n\u001b[0;32m      7\u001b[0m \u001b[0mpyplot\u001b[0m\u001b[1;33m.\u001b[0m\u001b[0mboxplot\u001b[0m\u001b[1;33m(\u001b[0m\u001b[0mresult\u001b[0m\u001b[1;33m)\u001b[0m\u001b[1;33m\u001b[0m\u001b[0m\n",
      "\u001b[1;32mc:\\python36\\lib\\site-packages\\numpy\\core\\fromnumeric.py\u001b[0m in \u001b[0;36mmean\u001b[1;34m(a, axis, dtype, out, keepdims)\u001b[0m\n\u001b[0;32m   2955\u001b[0m \u001b[1;33m\u001b[0m\u001b[0m\n\u001b[0;32m   2956\u001b[0m     return _methods._mean(a, axis=axis, dtype=dtype,\n\u001b[1;32m-> 2957\u001b[1;33m                           out=out, **kwargs)\n\u001b[0m\u001b[0;32m   2958\u001b[0m \u001b[1;33m\u001b[0m\u001b[0m\n\u001b[0;32m   2959\u001b[0m \u001b[1;33m\u001b[0m\u001b[0m\n",
      "\u001b[1;32mc:\\python36\\lib\\site-packages\\numpy\\core\\_methods.py\u001b[0m in \u001b[0;36m_mean\u001b[1;34m(a, axis, dtype, out, keepdims)\u001b[0m\n\u001b[0;32m     80\u001b[0m             \u001b[0mret\u001b[0m \u001b[1;33m=\u001b[0m \u001b[0mret\u001b[0m\u001b[1;33m.\u001b[0m\u001b[0mdtype\u001b[0m\u001b[1;33m.\u001b[0m\u001b[0mtype\u001b[0m\u001b[1;33m(\u001b[0m\u001b[0mret\u001b[0m \u001b[1;33m/\u001b[0m \u001b[0mrcount\u001b[0m\u001b[1;33m)\u001b[0m\u001b[1;33m\u001b[0m\u001b[0m\n\u001b[0;32m     81\u001b[0m     \u001b[1;32melse\u001b[0m\u001b[1;33m:\u001b[0m\u001b[1;33m\u001b[0m\u001b[0m\n\u001b[1;32m---> 82\u001b[1;33m         \u001b[0mret\u001b[0m \u001b[1;33m=\u001b[0m \u001b[0mret\u001b[0m \u001b[1;33m/\u001b[0m \u001b[0mrcount\u001b[0m\u001b[1;33m\u001b[0m\u001b[0m\n\u001b[0m\u001b[0;32m     83\u001b[0m \u001b[1;33m\u001b[0m\u001b[0m\n\u001b[0;32m     84\u001b[0m     \u001b[1;32mreturn\u001b[0m \u001b[0mret\u001b[0m\u001b[1;33m\u001b[0m\u001b[0m\n",
      "\u001b[1;31mTypeError\u001b[0m: unsupported operand type(s) for /: 'map' and 'int'"
     ]
    }
   ],
   "source": [
    "from matplotlib import pyplot\n",
    "# Summarize review length\n",
    "print(\"Review length: \")\n",
    "result = map(len, X_train_text)\n",
    "print(\"Mean %.2f words (%f)\" % (np.mean(result), np.std(result)))\n",
    "# plot review length\n",
    "pyplot.boxplot(result)\n",
    "pyplot.show()"
   ]
  },
  {
   "cell_type": "code",
   "execution_count": 94,
   "metadata": {},
   "outputs": [],
   "source": [
    "# Xứ lý tách từ \n",
    "imdbTokenizer = Tokenizer(num_words=max_features)\n",
    "\n",
    "imdbTokenizer.fit_on_texts(sentence_train)\n",
    "#for word, value in imdbTokenizer.word_index.items():\n",
    "    #print(word),\n"
   ]
  },
  {
   "cell_type": "code",
   "execution_count": 95,
   "metadata": {},
   "outputs": [
    {
     "name": "stdout",
     "output_type": "stream",
     "text": [
      "aapl\n",
      "amzn\n",
      "long\n"
     ]
    }
   ],
   "source": [
    "#create int to word dictionary\n",
    "intToWord = {}\n",
    "for word, value in imdbTokenizer.word_index.items():\n",
    "    intToWord[value] = word\n",
    "\n",
    "#add a symbol for null placeholder\n",
    "intToWord[0] = \"!!!NA!!!\"\n",
    "    \n",
    "print(intToWord[1])\n",
    "print(intToWord[2])\n",
    "print(intToWord[32])\n"
   ]
  },
  {
   "cell_type": "code",
   "execution_count": 96,
   "metadata": {},
   "outputs": [
    {
     "name": "stdout",
     "output_type": "stream",
     "text": [
      "X_train shape: 71300\n",
      "<class 'list'>\n"
     ]
    }
   ],
   "source": [
    "#convert word strings to integer sequence lists\n",
    "#print(X_train[0])\n",
    "#print(imdbTokenizer.texts_to_sequences(X_train[:1]))\n",
    "#for value in imdbTokenizer.texts_to_sequences(X_train[:1])[0]:\n",
    "    #print(intToWord[value])\n",
    "    \n",
    "X_train = imdbTokenizer.texts_to_sequences(sentence_train)\n",
    "print('X_train shape:', len(X_train))\n",
    "X_test = imdbTokenizer.texts_to_sequences(sentence_test)\n",
    "print(type(y_train))\n",
    "del y_train[61513]"
   ]
  },
  {
   "cell_type": "code",
   "execution_count": 97,
   "metadata": {},
   "outputs": [
    {
     "name": "stdout",
     "output_type": "stream",
     "text": [
      "71300 train sequences\n",
      "17826 test sequences\n",
      "Pad sequences (samples x time)\n",
      "X_train shape: (71300, 800)\n",
      "y_train shape: 71300\n",
      "X_test shape: (17826, 800)\n"
     ]
    }
   ],
   "source": [
    "print(len(X_train), 'train sequences')\n",
    "print(len(X_test), 'test sequences')\n",
    "\n",
    "print(\"Pad sequences (samples x time)\")\n",
    "X_train = sequence.pad_sequences(X_train, maxlen=max_len)\n",
    "X_test = sequence.pad_sequences(X_test, maxlen=max_len)\n",
    "print('X_train shape:', X_train.shape)\n",
    "print('y_train shape:', len(y_train))\n",
    "print('X_test shape:', X_test.shape)\n",
    "y_train = np.array(y_train)\n",
    "y_test = np.array(y_test)\n"
   ]
  },
  {
   "cell_type": "code",
   "execution_count": 98,
   "metadata": {},
   "outputs": [],
   "source": [
    "epochs = 10\n",
    "embedding_neurons = 128\n",
    "lstm_neurons = 64\n",
    "batch_size =32\n"
   ]
  },
  {
   "cell_type": "code",
   "execution_count": 99,
   "metadata": {},
   "outputs": [
    {
     "name": "stdout",
     "output_type": "stream",
     "text": [
      "_________________________________________________________________\n",
      "Layer (type)                 Output Shape              Param #   \n",
      "=================================================================\n",
      "input_4 (InputLayer)         (None, 800)               0         \n",
      "_________________________________________________________________\n",
      "embedding_4 (Embedding)      (None, 800, 128)          256000    \n",
      "_________________________________________________________________\n",
      "batch_normalization_4 (Batch (None, 800, 128)          512       \n",
      "_________________________________________________________________\n",
      "gru_4 (GRU)                  (None, 64)                37056     \n",
      "_________________________________________________________________\n",
      "dropout_4 (Dropout)          (None, 64)                0         \n",
      "_________________________________________________________________\n",
      "dense_4 (Dense)              (None, 1)                 65        \n",
      "=================================================================\n",
      "Total params: 293,633.0\n",
      "Trainable params: 293,377.0\n",
      "Non-trainable params: 256.0\n",
      "_________________________________________________________________\n",
      "None\n",
      "71300\n"
     ]
    }
   ],
   "source": [
    "# Forward Pass LSTM Network\n",
    "\n",
    "# this is the placeholder tensor for the input sequences\n",
    "sequence = Input(shape=(max_len,), dtype='int32')\n",
    "# this embedding layer will transform the sequences of integers\n",
    "# into vectors of size embedding\n",
    "# embedding layer converts dense int input to one-hot in real time to save memory\n",
    "embedded = Embedding(max_features, embedding_neurons, input_length=max_len)(sequence)\n",
    "# normalize embeddings by input/word in sentence\n",
    "bnorm = BatchNormalization()(embedded)\n",
    "\n",
    "# apply forwards LSTM layer size lstm_neurons\n",
    "forwards = GRU(lstm_neurons, dropout_W=0.4, dropout_U=0.4)(bnorm)\n",
    "\n",
    "# dropout \n",
    "after_dp = Dropout(0.5)(forwards)\n",
    "output = Dense(1, activation='sigmoid')(after_dp)\n",
    "\n",
    "model_fdir_atom = Model(inputs=sequence, outputs=output)\n",
    "# review model structure\n",
    "print(model_fdir_atom.summary())\n",
    "print(len(y_train))"
   ]
  },
  {
   "cell_type": "code",
   "execution_count": 100,
   "metadata": {},
   "outputs": [
    {
     "name": "stdout",
     "output_type": "stream",
     "text": [
      "Train...\n",
      "Train on 71300 samples, validate on 17826 samples\n",
      "Epoch 1/10\n",
      "2681s - loss: 0.5118 - acc: 0.7565 - val_loss: 0.8128 - val_acc: 0.6957\n",
      "Epoch 2/10\n",
      "3029s - loss: 0.4673 - acc: 0.7817 - val_loss: 0.8018 - val_acc: 0.6886\n",
      "Epoch 3/10\n",
      "2841s - loss: 0.4567 - acc: 0.7876 - val_loss: 0.8041 - val_acc: 0.6840\n",
      "Epoch 4/10\n",
      "2617s - loss: 0.4493 - acc: 0.7916 - val_loss: 0.7855 - val_acc: 0.6612\n",
      "Epoch 5/10\n",
      "2896s - loss: 0.4457 - acc: 0.7932 - val_loss: 0.8079 - val_acc: 0.6760\n",
      "Epoch 6/10\n",
      "2906s - loss: 0.4425 - acc: 0.7951 - val_loss: 0.8118 - val_acc: 0.6845\n",
      "Epoch 7/10\n",
      "2826s - loss: 0.4394 - acc: 0.7977 - val_loss: 0.8206 - val_acc: 0.6738\n",
      "Epoch 8/10\n",
      "2737s - loss: 0.4372 - acc: 0.7987 - val_loss: 0.8369 - val_acc: 0.6795\n",
      "Epoch 9/10\n",
      "2807s - loss: nan - acc: 0.0685 - val_loss: nan - val_acc: 0.0000e+00\n",
      "Epoch 10/10\n",
      "2941s - loss: nan - acc: 0.0000e+00 - val_loss: nan - val_acc: 0.0000e+00\n",
      "avg sec per epoch: 2828.6630739450457\n",
      "Accuracy: 0.00%\n",
      "dict_keys(['val_loss', 'val_acc', 'loss', 'acc'])\n"
     ]
    },
    {
     "data": {
      "image/png": "[encoded data removed]",
      "text/plain": [
       "<Figure size 432x288 with 1 Axes>"
      ]
     },
     "metadata": {
      "needs_background": "light"
     },
     "output_type": "display_data"
    }
   ],
   "source": [
    "# Forward pass LSTM network\n",
    "#'precision','recall', 'fmeasure'\n",
    "# try using different optimizers and different optimizer configs\n",
    "model_fdir_atom.compile('adam', 'binary_crossentropy', metrics=['accuracy'])\n",
    "print('Train...')\n",
    "start_time = time.time()\n",
    "\n",
    "history_fdir_atom = model_fdir_atom.fit(X_train, y_train,\n",
    "                    batch_size=batch_size,\n",
    "                    epochs=epochs,\n",
    "                    validation_data=[X_test, y_test], \n",
    "                    verbose=2)\n",
    "\n",
    "end_time = time.time()\n",
    "average_time_per_epoch = (end_time - start_time) / epochs\n",
    "print(\"avg sec per epoch:\", average_time_per_epoch)\n",
    "\n",
    "scores = model_fdir_atom.evaluate(X_test, y_test, verbose=0)\n",
    "print(\"Accuracy: %.2f%%\" % (scores[1]*100))\n",
    "\n",
    "import matplotlib.pyplot as plt\n",
    "print(history_fdir_atom.history.keys())\n",
    "# summarize history for accuracy\n",
    "plt.plot(history_fdir_atom.history['acc'])\n",
    "plt.plot(history_fdir_atom.history['val_acc'])\n",
    "plt.title('model accuracy')\n",
    "plt.ylabel('accuracy')\n",
    "plt.xlabel('epoch')\n",
    "plt.legend(['train', 'test'], loc='upper left')\n",
    "plt.show()\n",
    "\n"
   ]
  },
  {
   "cell_type": "code",
   "execution_count": 101,
   "metadata": {},
   "outputs": [
    {
     "data": {
      "image/png": "[encoded data removed]",
      "text/plain": [
       "<Figure size 432x288 with 1 Axes>"
      ]
     },
     "metadata": {
      "needs_background": "light"
     },
     "output_type": "display_data"
    }
   ],
   "source": [
    "# summarize history for loss\n",
    "plt.plot(history_fdir_atom.history['loss'])\n",
    "plt.plot(history_fdir_atom.history['val_loss'])\n",
    "plt.title('model loss')\n",
    "plt.ylabel('loss')\n",
    "plt.xlabel('epoch')\n",
    "plt.legend(['train', 'test'], loc='upper left')\n",
    "plt.show()\n"
   ]
  },
  {
   "cell_type": "code",
   "execution_count": 102,
   "metadata": {},
   "outputs": [
    {
     "name": "stderr",
     "output_type": "stream",
     "text": [
      "c:\\python36\\lib\\site-packages\\keras\\legacy\\interfaces.py:86: UserWarning: Update your `GRU` call to the Keras 2 API: `GRU(64, go_backwards=True, dropout=0.4, recurrent_dropout=0.4)`\n",
      "  '` call to the Keras 2 API: ' + signature)\n"
     ]
    },
    {
     "name": "stdout",
     "output_type": "stream",
     "text": [
      "____________________________________________________________________________________________________\n",
      "Layer (type)                     Output Shape          Param #     Connected to                     \n",
      "====================================================================================================\n",
      "input_5 (InputLayer)             (None, 800)           0                                            \n",
      "____________________________________________________________________________________________________\n",
      "embedding_5 (Embedding)          (None, 800, 128)      256000                                       \n",
      "____________________________________________________________________________________________________\n",
      "batch_normalization_5 (BatchNorm (None, 800, 128)      512                                          \n",
      "____________________________________________________________________________________________________\n",
      "gru_5 (GRU)                      (None, 64)            37056                                        \n",
      "____________________________________________________________________________________________________\n",
      "gru_6 (GRU)                      (None, 64)            37056                                        \n",
      "____________________________________________________________________________________________________\n",
      "merge_1 (Merge)                  (None, 128)           0                                            \n",
      "____________________________________________________________________________________________________\n",
      "dropout_5 (Dropout)              (None, 128)           0                                            \n",
      "____________________________________________________________________________________________________\n",
      "dense_5 (Dense)                  (None, 1)             129                                          \n",
      "====================================================================================================\n",
      "Total params: 330,753.0\n",
      "Trainable params: 330,497.0\n",
      "Non-trainable params: 256.0\n",
      "____________________________________________________________________________________________________\n",
      "None\n"
     ]
    },
    {
     "name": "stderr",
     "output_type": "stream",
     "text": [
      "c:\\python36\\lib\\site-packages\\keras\\legacy\\layers.py:429: UserWarning: The `merge` function is deprecated and will be removed after 08/2017. Use instead layers from `keras.layers.merge`, e.g. `sum`, `concatenate`, etc.\n",
      "  warnings.warn('The `merge` function is deprecated '\n",
      "c:\\python36\\lib\\site-packages\\keras\\legacy\\layers.py:66: UserWarning: The `Merge` layer is deprecated and will be removed after 08/2017. Use instead layers from `keras.layers.merge`, e.g. `add`, `concatenate`, etc.\n",
      "  warnings.warn('The `Merge` layer is deprecated '\n",
      "c:\\python36\\lib\\site-packages\\keras\\legacy\\interfaces.py:86: UserWarning: Update your `Model` call to the Keras 2 API: `Model(inputs=Tensor(\"in..., outputs=Tensor(\"de...)`\n",
      "  '` call to the Keras 2 API: ' + signature)\n"
     ]
    }
   ],
   "source": [
    "# Bi-directional Atom\n",
    "\n",
    "# based on keras tutorial: https://github.com/fchollet/keras/blob/master/examples/imdb_bidirectional_lstm.py\n",
    "\n",
    "# this is the placeholder tensor for the input sequences\n",
    "sequence = Input(shape=(max_len,), dtype='int32')\n",
    "# this embedding layer will transform the sequences of integers\n",
    "# into vectors of size embedding\n",
    "# embedding layer converts dense int input to one-hot in real time to save memory\n",
    "embedded = Embedding(max_features, embedding_neurons, input_length=max_len)(sequence)\n",
    "# normalize embeddings by input/word in sentence\n",
    "bnorm = BatchNormalization()(embedded)\n",
    "\n",
    "# apply forwards LSTM layer size lstm_neurons\n",
    "forwards = GRU(lstm_neurons, dropout_W=0.4, dropout_U=0.4)(bnorm)\n",
    "# apply backwards LSTM\n",
    "backwards = GRU(lstm_neurons, dropout_W=0.4, dropout_U=0.4, go_backwards=True)(bnorm)\n",
    "\n",
    "# concatenate the outputs of the 2 LSTMs\n",
    "merged = merge([forwards, backwards], mode='concat', concat_axis=-1)\n",
    "after_dp = Dropout(0.5)(merged)\n",
    "output = Dense(1, activation='sigmoid')(after_dp)\n",
    "\n",
    "model_bidir_atom = Model(input=sequence, output=output)\n",
    "# review model structure\n",
    "print(model_bidir_atom.summary())\n"
   ]
  },
  {
   "cell_type": "code",
   "execution_count": null,
   "metadata": {},
   "outputs": [
    {
     "name": "stdout",
     "output_type": "stream",
     "text": [
      "Train...\n",
      "Train on 71300 samples, validate on 17826 samples\n",
      "Epoch 1/10\n",
      "5041s - loss: 0.5155 - acc: 0.7555 - val_loss: 0.7757 - val_acc: 0.6925\n",
      "Epoch 2/10\n",
      "5679s - loss: 0.4858 - acc: 0.7741 - val_loss: 0.7554 - val_acc: 0.6717\n",
      "Epoch 3/10\n",
      "5467s - loss: 0.4805 - acc: 0.7781 - val_loss: 0.7297 - val_acc: 0.6842\n",
      "Epoch 4/10\n",
      "4874s - loss: 0.4787 - acc: 0.7788 - val_loss: 0.7281 - val_acc: 0.6783\n",
      "Epoch 5/10\n",
      "31691s - loss: 0.4762 - acc: 0.7825 - val_loss: 0.7633 - val_acc: 0.6765\n",
      "Epoch 6/10\n",
      "5055s - loss: 0.4763 - acc: 0.7811 - val_loss: 0.7666 - val_acc: 0.6875\n",
      "Epoch 7/10\n"
     ]
    }
   ],
   "source": [
    "# Bi-directional Atom\n",
    "\n",
    "# try using different optimizers and different optimizer configs\n",
    "#,'precision', 'recall', 'fmeasure'\n",
    "model_bidir_atom.compile(optimizer='rmsprop', loss='binary_crossentropy', metrics=['accuracy'])\n",
    "print('Train...')\n",
    "start_time = time.time()\n",
    "\n",
    "history_bidir_atom = model_bidir_atom.fit(X_train, y_train,\n",
    "                    batch_size=batch_size,\n",
    "                    nb_epoch=epochs,\n",
    "                    validation_data=[X_test, y_test], \n",
    "                    verbose=2)\n",
    "\n",
    "end_time = time.time()\n",
    "average_time_per_epoch = (end_time - start_time) / epochs\n",
    "print(\"avg sec per epoch:\", average_time_per_epoch)\n",
    "scores = model_fdir_atom.evaluate(X_test, y_test, verbose=0)\n",
    "print(\"Accuracy: %.2f%%\" % (scores[1]*100))\n",
    "\n",
    "import matplotlib.pyplot as plt\n",
    "print(history_fdir_atom.history.keys())\n",
    "\n"
   ]
  },
  {
   "cell_type": "code",
   "execution_count": null,
   "metadata": {},
   "outputs": [],
   "source": [
    "# summarize history for accuracy\n",
    "plt.plot(history_fdir_atom.history['acc'])\n",
    "plt.plot(history_fdir_atom.history['val_acc'])\n",
    "plt.title('model accuracy')\n",
    "plt.ylabel('accuracy')\n",
    "plt.xlabel('epoch')\n",
    "plt.legend(['train', 'test'], loc='upper left')\n",
    "plt.show()\n",
    "# summarize history for loss\n",
    "plt.plot(history_fdir_atom.history['loss'])\n",
    "plt.plot(history_fdir_atom.history['val_loss'])\n",
    "plt.title('model loss')\n",
    "plt.ylabel('loss')\n",
    "plt.xlabel('epoch')\n",
    "plt.legend(['train', 'test'], loc='upper left')\n",
    "plt.show()"
   ]
  },
  {
   "cell_type": "code",
   "execution_count": null,
   "metadata": {},
   "outputs": [],
   "source": [
    "import matplotlib.pyplot as plt\n",
    "print(history_bidir_atom.history.keys())\n",
    "plt.plot(history_bidir_atom.history['acc'])\n",
    "plt.plot(history_bidir_atom.history['val_acc'])\n",
    "plt.title('model accuracy')\n",
    "plt.ylabel('accuracy')\n",
    "plt.xlabel('epoch')\n",
    "plt.legend(['train', 'test'], loc='upper left')\n",
    "plt.show()"
   ]
  },
  {
   "cell_type": "code",
   "execution_count": null,
   "metadata": {},
   "outputs": [],
   "source": []
  }
 ],
 "metadata": {
  "kernelspec": {
   "display_name": "Python 3",
   "language": "python",
   "name": "python3"
  },
  "language_info": {
   "codemirror_mode": {
    "name": "ipython",
    "version": 3
   },
   "file_extension": ".py",
   "mimetype": "text/x-python",
   "name": "python",
   "nbconvert_exporter": "python",
   "pygments_lexer": "ipython3",
   "version": "3.6.5"
  }
 },
 "nbformat": 4,
 "nbformat_minor": 2
}
